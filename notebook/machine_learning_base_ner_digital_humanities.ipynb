{
 "cells": [
  {
   "cell_type": "code",
   "execution_count": 1,
   "id": "b02adda2",
   "metadata": {},
   "outputs": [],
   "source": [
    "import spacy\n",
    "import random\n",
    "import json"
   ]
  },
  {
   "cell_type": "code",
   "execution_count": 34,
   "id": "043b6e55",
   "metadata": {},
   "outputs": [],
   "source": [
    "def load_data(file):\n",
    "    with open(file, 'r', encoding='utf-8') as f:\n",
    "        data = json.load(f)\n",
    "    return data\n",
    "\n",
    "def generate_better_characters(file):\n",
    "    characters = load_data(file)\n",
    "    new_characters = [character for character in characters]\n",
    "    print(\"Original number of new_characters {}\".format(len(new_characters)))\n",
    "    \n",
    "    for item in characters:\n",
    "        item  = item.replace(\"The\", \"\").replace(\"the\", \"\").replace(\"and\", \"\").replace(\"And\", \"\")\n",
    "        names = item.split(\" \")\n",
    "        for name in names:\n",
    "            name = name.strip()\n",
    "            new_characters.append(name)\n",
    "        if \"(\" in item:\n",
    "            names = item.split(\"(\")\n",
    "            for name in names:\n",
    "                name = name.replace(\")\", \"\").strip()\n",
    "                new_characters.append(name)\n",
    "        if \",\" in item:\n",
    "            names = item.split(\",\")\n",
    "            for name in names:\n",
    "                name = name.replace(\"and\", \"\").strip()\n",
    "                if \" \" in name:\n",
    "                    new_names = name.split()\n",
    "                    for x in new_names:\n",
    "                        x = x.strip()\n",
    "                        new_characters.append(x)\n",
    "                new_characters.append(name)\n",
    "    final_characters = []\n",
    "    titles = [\"Dr.\", \"Professor\", \"Mr.\", \"Mrs.\", \"Ms.\", \"Miss\", \"Aunt\", \"Uncle\", \"Mr. and Mrs.\"]\n",
    "    \n",
    "    for character in new_characters:\n",
    "        if \"\" != character:\n",
    "            final_characters.append(character)\n",
    "            for title in titles:\n",
    "                titled_char = f\"{title} {character}\"\n",
    "                final_characters.append(titled_char)\n",
    "            \n",
    "    final_characters = list(set(final_characters))\n",
    "    final_characters.sort()\n",
    "    \n",
    "    print(\"After stripping, total number of new characters {}\".format(len(final_characters)))\n",
    "    return final_characters\n",
    "\n",
    "\n",
    "def create_training_data(file, label_type):\n",
    "    data = generate_better_characters(file)\n",
    "    patterns = []\n",
    "    for item in data:\n",
    "        pattern = {\n",
    "            \"label\": label_type,\n",
    "            \"pattern\": item\n",
    "        }\n",
    "        patterns.append(pattern)\n",
    "    return patterns\n",
    "\n",
    "def generate_rules(patterns):\n",
    "    nlp = English()\n",
    "    ruler = EntityRuler(nlp)\n",
    "    ruler.add_patterns(patterns)\n",
    "    nlp.add_pipe(ruler)\n",
    "    nlp.to_disk('hr_ner')\n",
    "\n",
    "def test_model(model, text):\n",
    "    doc = nlp(text)\n",
    "    results = []\n",
    "    entities = []\n",
    "    for ent in doc.ents:\n",
    "        single_training_data = (ent.start_char, ent.end_char, ent.label_)\n",
    "        entities.append((ent.start_char, ent.end_char, ent.label_))\n",
    "    \n",
    "    if len(entities) > 0:\n",
    "        results = (text, {\"entities\":entities})\n",
    "\n",
    "    return results\n",
    "\n",
    "def save_data(file, data):\n",
    "    with open(file, \"w\", encoding='utf-8') as file:\n",
    "        json.dump(data, file, indent=4)\n",
    "    "
   ]
  },
  {
   "cell_type": "code",
   "execution_count": 37,
   "id": "16416a42",
   "metadata": {},
   "outputs": [],
   "source": [
    "nlp = spacy.load(\"hr_ner\")\n",
    "TRAIN_DATA = []\n",
    "\n",
    "with open(\"../data/digital_humanity/hp.txt\") as f:\n",
    "    text = f.read()\n",
    "    chapters = text.split(\"CHAPTER\")[1:]\n",
    "    ie_data = {}\n",
    "    for chapter in chapters:\n",
    "        chapter_num, chapter_title =  chapter.split(\"\\n\\n\")[0:2]\n",
    "        chapter_num = chapter_num.strip()\n",
    "        segments = chapter.split(\"\\n\\n\")[2:]\n",
    "        hits = []\n",
    "        \n",
    "        for segment in segments:\n",
    "            segment = segment.strip()\n",
    "            segment = segment.replace(\"\\n\", \" \")\n",
    "            results =  test_model(nlp,segment)\n",
    "            \n",
    "            if len(results) > 0:\n",
    "                TRAIN_DATA.append(results)\n",
    "save_data(\"../data/hp_training_data.json\", TRAIN_DATA)\n"
   ]
  },
  {
   "cell_type": "code",
   "execution_count": 38,
   "id": "3612e2a9",
   "metadata": {},
   "outputs": [
    {
     "data": {
      "text/plain": [
       "list"
      ]
     },
     "execution_count": 38,
     "metadata": {},
     "output_type": "execute_result"
    }
   ],
   "source": [
    "training_data = load_data(\"../data/hp_training_data.json\")"
   ]
  },
  {
   "cell_type": "code",
   "execution_count": 43,
   "id": "ddb93656",
   "metadata": {},
   "outputs": [
    {
     "data": {
      "text/plain": [
       "2213"
      ]
     },
     "execution_count": 43,
     "metadata": {},
     "output_type": "execute_result"
    }
   ],
   "source": [
    "len(TRAIN_DATA)"
   ]
  },
  {
   "cell_type": "code",
   "execution_count": 42,
   "id": "db5cc48c",
   "metadata": {},
   "outputs": [
    {
     "data": {
      "text/plain": [
       "123"
      ]
     },
     "execution_count": 42,
     "metadata": {},
     "output_type": "execute_result"
    }
   ],
   "source": []
  },
  {
   "cell_type": "code",
   "execution_count": null,
   "id": "99617df0",
   "metadata": {},
   "outputs": [],
   "source": []
  }
 ],
 "metadata": {
  "kernelspec": {
   "display_name": "Python 3",
   "language": "python",
   "name": "python3"
  },
  "language_info": {
   "codemirror_mode": {
    "name": "ipython",
    "version": 3
   },
   "file_extension": ".py",
   "mimetype": "text/x-python",
   "name": "python",
   "nbconvert_exporter": "python",
   "pygments_lexer": "ipython3",
   "version": "3.7.0"
  },
  "varInspector": {
   "cols": {
    "lenName": 16,
    "lenType": 16,
    "lenVar": 40
   },
   "kernels_config": {
    "python": {
     "delete_cmd_postfix": "",
     "delete_cmd_prefix": "del ",
     "library": "var_list.py",
     "varRefreshCmd": "print(var_dic_list())"
    },
    "r": {
     "delete_cmd_postfix": ") ",
     "delete_cmd_prefix": "rm(",
     "library": "var_list.r",
     "varRefreshCmd": "cat(var_dic_list()) "
    }
   },
   "types_to_exclude": [
    "module",
    "function",
    "builtin_function_or_method",
    "instance",
    "_Feature"
   ],
   "window_display": false
  }
 },
 "nbformat": 4,
 "nbformat_minor": 5
}
